{
 "cells": [
  {
   "cell_type": "markdown",
   "metadata": {},
   "source": [
    "*source: Daily Coding Problem*\n",
    "\n",
    "Given a N by N matrix of random letters and a dictionary of words, find the maximum number of words that can be packed on the board from the given dictionary.\n",
    "\n",
    "A word is considered to be able to be packed on the board if:\n",
    "1. It can be found in the dictionary\n",
    "2. It can be constructed from untaken letters by other words found so far on the board\n",
    "3. The letters are adjacent to each other (vertically and horizontally, not diagonally).\n",
    "\n",
    "Each tile can be visited only once by any word."
   ]
  },
  {
   "cell_type": "code",
   "execution_count": 1,
   "metadata": {},
   "outputs": [],
   "source": [
    "#Example code\n",
    "my_words = { 'eat', 'rain', 'in', 'rat' }\n",
    "my_map =    [['e', 'a', 'n'],\n",
    "            ['t', 't', 'i'],\n",
    "            ['a', 'r', 'a']]"
   ]
  },
  {
   "cell_type": "markdown",
   "metadata": {},
   "source": [
    "**Expected result**: Function should return 3, since we can make the words 'eat', 'in', and 'rat' without them touching each other. We could have alternatively made 'eat' and 'rain', but that would be incorrect since that's only 2 words.\n"
   ]
  },
  {
   "cell_type": "markdown",
   "metadata": {},
   "source": [
    "# Solution\n",
    "\n",
    "## Assumptions\n",
    "1. Each entry in the dictionary appears only once in the board\n",
    "2. Best fit can be w.r.t.:\n",
    "2.1 maximum number of words\n",
    "2.2 total length of words (or minimum number of unused cells in the board)\n",
    "3. Best performance w.r.t. number of steps necessary to fill in the optimal board\n",
    "\n",
    "I will discuss solutions for 2.1 and 2.2\n",
    "\n",
    "## Maximum Number of Words Fit (brute force)\n",
    "1. For each word in the dictionary \n",
    "2. Find the word in the board (involves looking for the first letter and going around)\n",
    "    1. For each match in the board for the same word\n",
    "    2. Create a matrix, that stores the coordinates that matched the word. To represent a match, uses 1 for matched cells, otherwise write zero in the matrix (very sparse matrix)\n",
    "    3. Give this matrix a key identifier, e.g., word_v1, word_v2, etc\n",
    "4. For each pair of words add the matrices\n",
    "5. Are all resulting cells are either one or zero?\n",
    "    1. yes, then create a tuple-dictionary with the names of two words, e.g., {rat, eat}.\n",
    "    2. no, then do nothing\n",
    "6. Use these dictionaries to generate all possible linked lists\n",
    "7. Sort them by length, return the largest one.\n",
    "## Maximum total length of Words fit\n",
    "Similar to approach for 2.1, except that sort the linked lists by size of the words, that would require considering only one word from each tuple-dictionary."
   ]
  },
  {
   "cell_type": "markdown",
   "metadata": {},
   "source": [
    "## Improvement in Perfomance\n",
    "Here I try to minimize the number of steps of the previous algorithm. My strategy consists:\n",
    "1. Sort the words in the dictionary, so I go from larger to smaller. The insight here is that larger words will show more quickly that certain combinations of words are impossible to fit in the board.\n",
    "2. Create a binary tree where each level corresponds to word. The left edge means that the word is included in the board, whereas the right edge means that the word is not included.\n",
    "2.1 Start with the largest word and find a match\n",
    "2.1.1 If match found, generate the next two nodes in the tree. Each new child node corresponds to a board in which the word was fit (left) or not (right). This means that the left nodes are just copies of the parent node\n",
    "2.1.2 If match not found, just copy the parent node board to the left node.\n",
    "3. **Depth First Search** (DFS) Build this tree doing a DFS from left to right and keep track of the best result (both w.r.t. number of words and total length)\n",
    "4. **Pruning** Before opening a new child node, check if it is still possible to obtain better results than the best one, given the remaining number of words and their lengths that can be obtained.\n",
    "\n",
    "### Ablation study\n",
    "Evaluate how much items 1, 2, 3, 4 contribute to the efficiency of the algorithm."
   ]
  },
  {
   "cell_type": "code",
   "execution_count": 14,
   "metadata": {},
   "outputs": [
    {
     "ename": "SyntaxError",
     "evalue": "invalid syntax (4207584871.py, line 46)",
     "output_type": "error",
     "traceback": [
      "\u001b[1;36m  Cell \u001b[1;32mIn [14], line 46\u001b[1;36m\u001b[0m\n\u001b[1;33m    WordHashMap = NewType('WordHashMap', dict(key:str,content:list))\u001b[0m\n\u001b[1;37m                                                 ^\u001b[0m\n\u001b[1;31mSyntaxError\u001b[0m\u001b[1;31m:\u001b[0m invalid syntax\n"
     ]
    }
   ],
   "source": [
    "#Using type hinting\n",
    "from audioop import reverse\n",
    "from typing import NewType, TypedDict\n",
    "from typing import List, Set, Dict, Tuple, Optional\n",
    "import collections\n",
    "import numpy as np \n",
    "\n",
    "#----------------------------------------------------------------\n",
    "#Data Structures\n",
    "\n",
    "class WordList:\n",
    "    \"\"\"\"Unordered list of words that will be matched againts a matrix of words.\"\"\"\n",
    "    def __init__(self, words:list[str]):\n",
    "        self.words = words\n",
    "    \n",
    "    def __repr__(self) -> str:\n",
    "        pass\n",
    "    \n",
    "    def __len__(self):\n",
    "        return(len(self.words))\n",
    "    \n",
    "    def __getitem__(self, word:str) -> str:\n",
    "        return(self.words)\n",
    "\n",
    "    def getitem_at(self, position:int) -> str:\n",
    "        return(self.words[position])\n",
    "\n",
    "    def sort_Words(self,ascending:bool)-> list[str]:\n",
    "        \"\"\"Sorts the words by their size. If ascending == true, the first position \n",
    "        in the WordList contains the smallest word and the last position the largest. \n",
    "        The opposite will be done if ascending == false.\"\"\"\n",
    "        sorted_words = WordList([]).sort(reverse=ascending)\n",
    "        return sorted_words\n",
    "\n",
    "\"\"\"\"The matrix of words containing possible matches for a word.\"\"\"\n",
    "#SWordMatrix = np.array[int][int]\n",
    "\n",
    "class LetterHashmap:\n",
    "    \"\"\"Hashmap where the key is the letter in WorkMatrix and the content is the list of coordinates\n",
    "    where this letter is found. This hashmap is used to more quickly find the letters in the WordMatrix without having to\n",
    "    search the full matrix for each new letter\"\"\"\n",
    "    letter_key:str\n",
    "    position = collections.namedtuple('position',['x','y'])\n",
    "    coordinates_list:list[position]\n",
    "\n",
    "#TODO create hashmap as dictionary\n",
    "# WordHashMap = NewType('WordHashMap', dict(key:str,content:list))\n",
    "#Check if you should use typing.Dict ()\n",
    "\n"
   ]
  },
  {
   "cell_type": "markdown",
   "metadata": {},
   "source": [
    "Next we define the functions that will be called to initialize the data structures."
   ]
  },
  {
   "cell_type": "code",
   "execution_count": null,
   "metadata": {},
   "outputs": [],
   "source": [
    "#----------------------------------------------------------------\n",
    "#Functions to Initialize Data Structures\n",
    "\n",
    "def initialize_Matrix(width:int, height:int)-> WordMatrix:\n",
    "    \"\"\"Creates an empty WordMatrix with the provided dimensions\"\"\"\n",
    "    matrix = WordMatrix([[0 for x in range(width)] for y in range(height)])\n",
    "    return matrix\n",
    "\n",
    "def create_hashmap(matrix:WordMatrix)-> WordHashMap:\n",
    "    \"\"\"Creates an a hashmap where the key is the letter in WorkMatrix and the content is the list of coordinates\n",
    "    where this letter is found. This hashmap is used to more quickly find the letters in the WordMatrix without having to\n",
    "    search the full matrix for each new letter.\"\"\"\n",
    "    letter_hashmap = LetterHashmap()\n",
    "    for row in matrix:\n",
    "        for col in row:\n",
    "            letter = matrix[row, col]\n",
    "            if letter in letter_hashmap:\n",
    "\n",
    "                list = letter_hashmap[letter]\n",
    "                list.append\n",
    "                letter_hashmap[letter].append(row)\n",
    "    return letter_hashmap\n"
   ]
  },
  {
   "cell_type": "markdown",
   "metadata": {},
   "source": [
    "Functions to match words by different criteria."
   ]
  },
  {
   "cell_type": "code",
   "execution_count": null,
   "metadata": {},
   "outputs": [],
   "source": [
    "def match_Max_Number_Words(words:WordList, word_map:WordMatrix)-> WordList:\n",
    "    \"\"\"Matches the maximum number of words. If there are more than one matching return the first one\"\"\"\n",
    "    #find one word matching in the board.\n",
    "    for i in range(len(words)):\n",
    "        word = words[i]\n",
    "        for j in range(len(word)):\n",
    "            character = word[j]\n",
    "            if character in word_map.keys():\n",
    "                return word_map[character]\n",
    "    #search_Words \n",
    "    WordCoordinates = search_Word_ToLeft(start,word,word_map)\n",
    "\n",
    "    matched_Words = WordList([])\n",
    "    \n",
    "    return matched_Words\n",
    "\n",
    "def search_Word_ToLeft(start:int, word:str, word_map:WordMatrix)-> WordCoordinates:\n",
    "    \"\"\"Search for a word from start position in WordMatrix towards left position\"\"\"\n",
    "    return WordCoordinates\n",
    "\n",
    "\n",
    "def match_Max_Length_Words(words:WordList, word_map:WordMatrix)-> WordList:\n",
    "    \"\"\"Matches the set of words with maximum length, which correspond to leaving the fewest characters \n",
    "    that are not covered by a word in the WordMatrix\"\"\"\n",
    "    matched_Words = WordList([])\n",
    "    return matched_Words\n"
   ]
  },
  {
   "cell_type": "code",
   "execution_count": 12,
   "metadata": {},
   "outputs": [
    {
     "name": "stdout",
     "output_type": "stream",
     "text": [
      "['e', 'a', '1', 'o', 'i', 'e', 'a', '1', 'o', 'i']\n"
     ]
    }
   ],
   "source": [
    "vowels = ['e', 'a', 'u', 'o', 'i']\n",
    "vowels[2:3] = ['1']\n",
    "print(vowels*2)\n"
   ]
  }
 ],
 "metadata": {
  "kernelspec": {
   "display_name": "Python 3.10.6 ('dly_env': venv)",
   "language": "python",
   "name": "python3"
  },
  "language_info": {
   "codemirror_mode": {
    "name": "ipython",
    "version": 3
   },
   "file_extension": ".py",
   "mimetype": "text/x-python",
   "name": "python",
   "nbconvert_exporter": "python",
   "pygments_lexer": "ipython3",
   "version": "3.10.6"
  },
  "orig_nbformat": 4,
  "vscode": {
   "interpreter": {
    "hash": "80e149f0f236433013dfb2c38ccf8ff85d095301b53924f4783b51f0818b7c2c"
   }
  }
 },
 "nbformat": 4,
 "nbformat_minor": 2
}
