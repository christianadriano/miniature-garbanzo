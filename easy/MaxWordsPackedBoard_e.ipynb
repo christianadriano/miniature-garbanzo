{
 "cells": [
  {
   "cell_type": "markdown",
   "metadata": {},
   "source": [
    "given an N by N matrix of random letters and a dictionary of words. Find the maximum number of words that can be packed on the board from the given dictionary.\n",
    "\n",
    "A word is considered to be able to be packed on the board if:\n",
    "\n",
    "    It can be found in the dictionary\n",
    "    It can be constructed from untaken letters by other words found so far on the board\n",
    "    The letters are adjacent to each other (vertically and horizontally, not diagonally).\n",
    "\n",
    "Each tile can be visited only once by any word."
   ]
  },
  {
   "cell_type": "code",
   "execution_count": null,
   "metadata": {},
   "outputs": [],
   "source": [
    "#Example\n",
    "my_dictionary = { 'eat', 'rain', 'in', 'rat' }\n",
    "my_matrix = [['e', 'a', 'n'],\n",
    "            ['t', 't', 'i'],\n",
    "            ['a', 'r', 'a']]"
   ]
  },
  {
   "cell_type": "markdown",
   "metadata": {},
   "source": [
    "Function should return 3, since we can make the words 'eat', 'in', and 'rat' without them touching each other. We could have alternatively made 'eat' and 'rain', but that would be incorrect since that's only 2 words.\n"
   ]
  }
 ],
 "metadata": {
  "language_info": {
   "name": "python"
  },
  "orig_nbformat": 4
 },
 "nbformat": 4,
 "nbformat_minor": 2
}
