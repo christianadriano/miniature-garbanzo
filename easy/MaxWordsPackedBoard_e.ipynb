{
 "cells": [
  {
   "cell_type": "markdown",
   "metadata": {},
   "source": [
    "*source: Daily Coding Problem*\n",
    "\n",
    "Given a N by N matrix of random letters and a dictionary of words, find the maximum number of words that can be packed on the board from the given dictionary.\n",
    "\n",
    "A word is considered to be able to be packed on the board if:\n",
    "1- It can be found in the dictionary\n",
    "2- It can be constructed from untaken letters by other words found so far on the board\n",
    "3- The letters are adjacent to each other (vertically and horizontally, not diagonally).\n",
    "\n",
    "Each tile can be visited only once by any word."
   ]
  },
  {
   "cell_type": "code",
   "execution_count": null,
   "metadata": {},
   "outputs": [],
   "source": [
    "#Example code\n",
    "my_dictionary = { 'eat', 'rain', 'in', 'rat' }\n",
    "my_matrix = [['e', 'a', 'n'],\n",
    "            ['t', 't', 'i'],\n",
    "            ['a', 'r', 'a']]"
   ]
  },
  {
   "cell_type": "markdown",
   "metadata": {},
   "source": [
    "**Expected result**: Function should return 3, since we can make the words 'eat', 'in', and 'rat' without them touching each other. We could have alternatively made 'eat' and 'rain', but that would be incorrect since that's only 2 words.\n"
   ]
  },
  {
   "cell_type": "markdown",
   "metadata": {},
   "source": [
    "# Solution\n",
    "\n",
    "## Assumptions\n",
    "1. Each entry in the dictionary appears only once in the board\n",
    "2. Best fit can be w.r.t. to:\n",
    "2.1 maximum number of words\n",
    "2.2 total length of words (or minimum number of unused cells in the board)\n",
    "3. Best performance w.r.t. number of steps necessary to fill in the optimal board\n",
    "\n",
    "I will discuss solutions for 2.1 and 2.2\n",
    "\n",
    "## Maximum Number of Words Fit\n",
    "1. For each word in the dictionary \n",
    "2. Find the word in the board\n",
    "3. Store the coordinates of the word as new board, where 1 stands for matched cells, whereas 0 (zero) for unused cell\n",
    "4. For each pair of words add the matrices\n",
    "5. Are all resulting cells are either 1 or zero?\n",
    "5.1 yes, then create a tuple-dictionary with the names of two words, e.g., {rat, eat}.\n",
    "5.2 no, then do nothing\n",
    "6. Use these dictionaries to generate all possible linked lists\n",
    "7. Sort them by length, return the largest one.\n",
    "## Maximum total length of Words fit\n",
    "Similar to approach for 2.1, except that sort the linked lists by size of the words, that would require considering only one word from each tuple-dictionary."
   ]
  },
  {
   "cell_type": "code",
   "execution_count": null,
   "metadata": {},
   "outputs": [],
   "source": []
  },
  {
   "cell_type": "markdown",
   "metadata": {},
   "source": []
  }
 ],
 "metadata": {
  "kernelspec": {
   "display_name": "Python 3.10.6 64-bit",
   "language": "python",
   "name": "python3"
  },
  "language_info": {
   "name": "python",
   "version": "3.10.6"
  },
  "orig_nbformat": 4,
  "vscode": {
   "interpreter": {
    "hash": "e9cd53ce23cd49a109c649a8aa52a18e7ad1f6111dacb59f142d4e62b2f56cd2"
   }
  }
 },
 "nbformat": 4,
 "nbformat_minor": 2
}
